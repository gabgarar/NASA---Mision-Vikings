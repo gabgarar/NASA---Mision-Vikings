{
 "cells": [
  {
   "cell_type": "markdown",
   "metadata": {},
   "source": [
    "# CLUSTERING"
   ]
  },
  {
   "cell_type": "markdown",
   "metadata": {},
   "source": [
    "### Importamos las librerias"
   ]
  },
  {
   "cell_type": "code",
   "execution_count": 1,
   "metadata": {},
   "outputs": [],
   "source": [
    "import pandas as pd\n",
    "import numpy as np\n",
    "import os\n",
    "\n",
    "import matplotlib.pyplot as plt\n",
    "%matplotlib inline\n",
    "import seaborn as sns \n",
    "from mpl_toolkits.mplot3d import Axes3D\n",
    "from matplotlib import animation\n",
    "\n",
    "from sklearn.decomposition import PCA as sklearnPCA\n",
    "from sklearn.model_selection import train_test_split\n",
    "from sklearn.preprocessing import normalize\n",
    "from sklearn.preprocessing import StandardScaler\n",
    "from sklearn.cluster import KMeans\n"
   ]
  },
  {
   "cell_type": "markdown",
   "metadata": {},
   "source": [
    "### Leemos los datos"
   ]
  },
  {
   "cell_type": "code",
   "execution_count": 2,
   "metadata": {},
   "outputs": [
    {
     "data": {
      "text/html": [
       "<div>\n",
       "<style scoped>\n",
       "    .dataframe tbody tr th:only-of-type {\n",
       "        vertical-align: middle;\n",
       "    }\n",
       "\n",
       "    .dataframe tbody tr th {\n",
       "        vertical-align: top;\n",
       "    }\n",
       "\n",
       "    .dataframe thead th {\n",
       "        text-align: right;\n",
       "    }\n",
       "</style>\n",
       "<table border=\"1\" class=\"dataframe\">\n",
       "  <thead>\n",
       "    <tr style=\"text-align: right;\">\n",
       "      <th></th>\n",
       "      <th>ARCHIVED_RECORD_NUMBER</th>\n",
       "      <th>SEISMIC_TIME_SOLS</th>\n",
       "      <th>ORIGINAL_FILE_NUMBER</th>\n",
       "      <th>ORIGINAL_RECORD_NUMBER</th>\n",
       "      <th>DATA_ACQUISITION_SOL</th>\n",
       "      <th>DATA_ACQUISITION_HOUR</th>\n",
       "      <th>DATA_ACQUSITION_MINUTE</th>\n",
       "      <th>DATA_ACQUISITION_SECOND</th>\n",
       "      <th>MEDIAN_X_AXIS</th>\n",
       "      <th>FIRST_X_AXIS</th>\n",
       "      <th>...</th>\n",
       "      <th>RMS_Z_AXIS_X100</th>\n",
       "      <th>MEAN_X_AXIS_CROSSINGS</th>\n",
       "      <th>MEAN_Y_AXIS_CROSSINGS</th>\n",
       "      <th>MEAN_Z_AXIS_CROSSINGS</th>\n",
       "      <th>METEO_TIME_SOLS</th>\n",
       "      <th>WINDSPEED</th>\n",
       "      <th>PRESSURE</th>\n",
       "      <th>WIND_DIRECTION</th>\n",
       "      <th>AIR_TEMPERATURE</th>\n",
       "      <th>WIND_SEISMIC_INTERVAL</th>\n",
       "    </tr>\n",
       "  </thead>\n",
       "  <tbody>\n",
       "    <tr>\n",
       "      <th>0</th>\n",
       "      <td>1.0</td>\n",
       "      <td>101</td>\n",
       "      <td>126.0</td>\n",
       "      <td>0.0</td>\n",
       "      <td>12.0</td>\n",
       "      <td>34.0</td>\n",
       "      <td>16.0</td>\n",
       "      <td>26.0</td>\n",
       "      <td>2.0</td>\n",
       "      <td>2.0</td>\n",
       "      <td>...</td>\n",
       "      <td>105.0</td>\n",
       "      <td>15.0</td>\n",
       "      <td>5.0</td>\n",
       "      <td>18.0</td>\n",
       "      <td>0.5098</td>\n",
       "      <td>0.97</td>\n",
       "      <td>3.782</td>\n",
       "      <td>39.3</td>\n",
       "      <td>96.2</td>\n",
       "      <td>45256.0</td>\n",
       "    </tr>\n",
       "    <tr>\n",
       "      <th>1</th>\n",
       "      <td>2.0</td>\n",
       "      <td>101</td>\n",
       "      <td>154.0</td>\n",
       "      <td>0.0</td>\n",
       "      <td>12.0</td>\n",
       "      <td>34.0</td>\n",
       "      <td>43.0</td>\n",
       "      <td>51.0</td>\n",
       "      <td>1.0</td>\n",
       "      <td>2.0</td>\n",
       "      <td>...</td>\n",
       "      <td>103.0</td>\n",
       "      <td>19.0</td>\n",
       "      <td>7.0</td>\n",
       "      <td>20.0</td>\n",
       "      <td>0.5101</td>\n",
       "      <td>0.97</td>\n",
       "      <td>3.784</td>\n",
       "      <td>39.4</td>\n",
       "      <td>96.2</td>\n",
       "      <td>45283.0</td>\n",
       "    </tr>\n",
       "    <tr>\n",
       "      <th>2</th>\n",
       "      <td>3.0</td>\n",
       "      <td>101</td>\n",
       "      <td>207.0</td>\n",
       "      <td>0.0</td>\n",
       "      <td>12.0</td>\n",
       "      <td>35.0</td>\n",
       "      <td>35.0</td>\n",
       "      <td>51.0</td>\n",
       "      <td>1.0</td>\n",
       "      <td>1.0</td>\n",
       "      <td>...</td>\n",
       "      <td>113.0</td>\n",
       "      <td>25.0</td>\n",
       "      <td>9.0</td>\n",
       "      <td>24.0</td>\n",
       "      <td>0.5107</td>\n",
       "      <td>0.97</td>\n",
       "      <td>3.789</td>\n",
       "      <td>39.4</td>\n",
       "      <td>96.3</td>\n",
       "      <td>45335.0</td>\n",
       "    </tr>\n",
       "    <tr>\n",
       "      <th>3</th>\n",
       "      <td>4.0</td>\n",
       "      <td>101</td>\n",
       "      <td>260.0</td>\n",
       "      <td>0.0</td>\n",
       "      <td>12.0</td>\n",
       "      <td>36.0</td>\n",
       "      <td>26.0</td>\n",
       "      <td>51.0</td>\n",
       "      <td>1.0</td>\n",
       "      <td>1.0</td>\n",
       "      <td>...</td>\n",
       "      <td>111.0</td>\n",
       "      <td>18.0</td>\n",
       "      <td>12.0</td>\n",
       "      <td>27.0</td>\n",
       "      <td>0.5112</td>\n",
       "      <td>0.97</td>\n",
       "      <td>3.793</td>\n",
       "      <td>39.4</td>\n",
       "      <td>96.4</td>\n",
       "      <td>45386.0</td>\n",
       "    </tr>\n",
       "    <tr>\n",
       "      <th>4</th>\n",
       "      <td>5.0</td>\n",
       "      <td>101</td>\n",
       "      <td>313.0</td>\n",
       "      <td>0.0</td>\n",
       "      <td>12.0</td>\n",
       "      <td>37.0</td>\n",
       "      <td>18.0</td>\n",
       "      <td>51.0</td>\n",
       "      <td>1.0</td>\n",
       "      <td>2.0</td>\n",
       "      <td>...</td>\n",
       "      <td>108.0</td>\n",
       "      <td>5.0</td>\n",
       "      <td>14.0</td>\n",
       "      <td>29.0</td>\n",
       "      <td>0.5118</td>\n",
       "      <td>0.97</td>\n",
       "      <td>3.797</td>\n",
       "      <td>39.5</td>\n",
       "      <td>96.6</td>\n",
       "      <td>45438.0</td>\n",
       "    </tr>\n",
       "  </tbody>\n",
       "</table>\n",
       "<p>5 rows × 24 columns</p>\n",
       "</div>"
      ],
      "text/plain": [
       "   ARCHIVED_RECORD_NUMBER  SEISMIC_TIME_SOLS  ORIGINAL_FILE_NUMBER  \\\n",
       "0                     1.0                101                 126.0   \n",
       "1                     2.0                101                 154.0   \n",
       "2                     3.0                101                 207.0   \n",
       "3                     4.0                101                 260.0   \n",
       "4                     5.0                101                 313.0   \n",
       "\n",
       "   ORIGINAL_RECORD_NUMBER  DATA_ACQUISITION_SOL  DATA_ACQUISITION_HOUR  \\\n",
       "0                     0.0                  12.0                   34.0   \n",
       "1                     0.0                  12.0                   34.0   \n",
       "2                     0.0                  12.0                   35.0   \n",
       "3                     0.0                  12.0                   36.0   \n",
       "4                     0.0                  12.0                   37.0   \n",
       "\n",
       "   DATA_ACQUSITION_MINUTE  DATA_ACQUISITION_SECOND  MEDIAN_X_AXIS  \\\n",
       "0                    16.0                     26.0            2.0   \n",
       "1                    43.0                     51.0            1.0   \n",
       "2                    35.0                     51.0            1.0   \n",
       "3                    26.0                     51.0            1.0   \n",
       "4                    18.0                     51.0            1.0   \n",
       "\n",
       "   FIRST_X_AXIS          ...            RMS_Z_AXIS_X100  \\\n",
       "0           2.0          ...                      105.0   \n",
       "1           2.0          ...                      103.0   \n",
       "2           1.0          ...                      113.0   \n",
       "3           1.0          ...                      111.0   \n",
       "4           2.0          ...                      108.0   \n",
       "\n",
       "   MEAN_X_AXIS_CROSSINGS  MEAN_Y_AXIS_CROSSINGS  MEAN_Z_AXIS_CROSSINGS  \\\n",
       "0                   15.0                    5.0                   18.0   \n",
       "1                   19.0                    7.0                   20.0   \n",
       "2                   25.0                    9.0                   24.0   \n",
       "3                   18.0                   12.0                   27.0   \n",
       "4                    5.0                   14.0                   29.0   \n",
       "\n",
       "   METEO_TIME_SOLS  WINDSPEED  PRESSURE  WIND_DIRECTION  AIR_TEMPERATURE  \\\n",
       "0           0.5098       0.97     3.782            39.3             96.2   \n",
       "1           0.5101       0.97     3.784            39.4             96.2   \n",
       "2           0.5107       0.97     3.789            39.4             96.3   \n",
       "3           0.5112       0.97     3.793            39.4             96.4   \n",
       "4           0.5118       0.97     3.797            39.5             96.6   \n",
       "\n",
       "   WIND_SEISMIC_INTERVAL  \n",
       "0                45256.0  \n",
       "1                45283.0  \n",
       "2                45335.0  \n",
       "3                45386.0  \n",
       "4                45438.0  \n",
       "\n",
       "[5 rows x 24 columns]"
      ]
     },
     "execution_count": 2,
     "metadata": {},
     "output_type": "execute_result"
    }
   ],
   "source": [
    "filename = \"nasa/event/event_wind_summary/event_wind_summary.csv\"\n",
    "fd = pd.read_csv(filename);\n",
    "fd.head()"
   ]
  },
  {
   "cell_type": "markdown",
   "metadata": {},
   "source": [
    "# CLUSTERING CON DATOS CON MUY POCA INFLUENCIA DEL VIENTO"
   ]
  },
  {
   "cell_type": "markdown",
   "metadata": {},
   "source": [
    "## ELECCION DE DATOS"
   ]
  },
  {
   "cell_type": "code",
   "execution_count": 5,
   "metadata": {},
   "outputs": [],
   "source": [
    "# Debido a que SEISMIC_TIME_SOLS declara el tiempo segun el dia, las horas y los segundos, usaremos unicamente este valor \n",
    "# como medidor de tiempo"
   ]
  },
  {
   "cell_type": "code",
   "execution_count": 22,
   "metadata": {},
   "outputs": [
    {
     "name": "stderr",
     "output_type": "stream",
     "text": [
      "C:\\Users\\Usuario\\Anaconda3\\lib\\site-packages\\sklearn\\preprocessing\\data.py:625: DataConversionWarning: Data with input dtype int64, float64 were all converted to float64 by StandardScaler.\n",
      "  return self.partial_fit(X, y)\n",
      "C:\\Users\\Usuario\\Anaconda3\\lib\\site-packages\\sklearn\\base.py:462: DataConversionWarning: Data with input dtype int64, float64 were all converted to float64 by StandardScaler.\n",
      "  return self.fit(X, **fit_params).transform(X)\n"
     ]
    },
    {
     "data": {
      "text/html": [
       "<div>\n",
       "<style scoped>\n",
       "    .dataframe tbody tr th:only-of-type {\n",
       "        vertical-align: middle;\n",
       "    }\n",
       "\n",
       "    .dataframe tbody tr th {\n",
       "        vertical-align: top;\n",
       "    }\n",
       "\n",
       "    .dataframe thead th {\n",
       "        text-align: right;\n",
       "    }\n",
       "</style>\n",
       "<table border=\"1\" class=\"dataframe\">\n",
       "  <thead>\n",
       "    <tr style=\"text-align: right;\">\n",
       "      <th></th>\n",
       "      <th>SEISMIC_TIME_SOLS</th>\n",
       "      <th>DATA_ACQUISITION_SOL</th>\n",
       "      <th>DATA_ACQUISITION_HOUR</th>\n",
       "      <th>WINDSPEED</th>\n",
       "      <th>PRESSURE</th>\n",
       "      <th>WIND_DIRECTION</th>\n",
       "      <th>AIR_TEMPERATURE</th>\n",
       "      <th>MAXIMUM_X_AXIS</th>\n",
       "    </tr>\n",
       "  </thead>\n",
       "  <tbody>\n",
       "    <tr>\n",
       "      <th>count</th>\n",
       "      <td>1.888240e+05</td>\n",
       "      <td>1.888240e+05</td>\n",
       "      <td>1.888240e+05</td>\n",
       "      <td>1.888240e+05</td>\n",
       "      <td>1.888240e+05</td>\n",
       "      <td>1.888240e+05</td>\n",
       "      <td>1.888240e+05</td>\n",
       "      <td>1.888240e+05</td>\n",
       "    </tr>\n",
       "    <tr>\n",
       "      <th>mean</th>\n",
       "      <td>-1.425085e-13</td>\n",
       "      <td>-6.953978e-14</td>\n",
       "      <td>-2.377304e-16</td>\n",
       "      <td>6.307977e-15</td>\n",
       "      <td>2.287460e-13</td>\n",
       "      <td>5.265351e-16</td>\n",
       "      <td>4.541177e-15</td>\n",
       "      <td>-1.973096e-13</td>\n",
       "    </tr>\n",
       "    <tr>\n",
       "      <th>std</th>\n",
       "      <td>1.000003e+00</td>\n",
       "      <td>1.000003e+00</td>\n",
       "      <td>1.000003e+00</td>\n",
       "      <td>1.000003e+00</td>\n",
       "      <td>1.000003e+00</td>\n",
       "      <td>1.000003e+00</td>\n",
       "      <td>1.000003e+00</td>\n",
       "      <td>1.000003e+00</td>\n",
       "    </tr>\n",
       "    <tr>\n",
       "      <th>min</th>\n",
       "      <td>-1.691701e+00</td>\n",
       "      <td>-1.131798e+00</td>\n",
       "      <td>-1.688788e+00</td>\n",
       "      <td>-2.200066e+00</td>\n",
       "      <td>-8.206834e+00</td>\n",
       "      <td>-1.375896e+00</td>\n",
       "      <td>-6.229314e+00</td>\n",
       "      <td>-6.190386e-01</td>\n",
       "    </tr>\n",
       "    <tr>\n",
       "      <th>25%</th>\n",
       "      <td>-7.159115e-01</td>\n",
       "      <td>-9.110490e-01</td>\n",
       "      <td>-8.749233e-01</td>\n",
       "      <td>-8.139223e-01</td>\n",
       "      <td>-1.116133e+00</td>\n",
       "      <td>-7.519074e-01</td>\n",
       "      <td>-7.037699e-01</td>\n",
       "      <td>-2.513958e-01</td>\n",
       "    </tr>\n",
       "    <tr>\n",
       "      <th>50%</th>\n",
       "      <td>1.998287e-02</td>\n",
       "      <td>-4.695502e-01</td>\n",
       "      <td>-2.925072e-03</td>\n",
       "      <td>-1.533381e-01</td>\n",
       "      <td>3.410141e-01</td>\n",
       "      <td>-3.440273e-01</td>\n",
       "      <td>-3.894358e-02</td>\n",
       "      <td>-2.513958e-01</td>\n",
       "    </tr>\n",
       "    <tr>\n",
       "      <th>75%</th>\n",
       "      <td>9.860469e-01</td>\n",
       "      <td>1.075696e+00</td>\n",
       "      <td>8.690732e-01</td>\n",
       "      <td>7.671481e-01</td>\n",
       "      <td>5.521947e-01</td>\n",
       "      <td>5.340344e-01</td>\n",
       "      <td>5.378263e-01</td>\n",
       "      <td>-1.594852e-01</td>\n",
       "    </tr>\n",
       "    <tr>\n",
       "      <th>max</th>\n",
       "      <td>1.381550e+00</td>\n",
       "      <td>1.517195e+00</td>\n",
       "      <td>1.741071e+00</td>\n",
       "      <td>2.131634e+00</td>\n",
       "      <td>2.353442e+00</td>\n",
       "      <td>2.128563e+00</td>\n",
       "      <td>2.558722e+00</td>\n",
       "      <td>1.105362e+01</td>\n",
       "    </tr>\n",
       "  </tbody>\n",
       "</table>\n",
       "</div>"
      ],
      "text/plain": [
       "       SEISMIC_TIME_SOLS  DATA_ACQUISITION_SOL  DATA_ACQUISITION_HOUR  \\\n",
       "count       1.888240e+05          1.888240e+05           1.888240e+05   \n",
       "mean       -1.425085e-13         -6.953978e-14          -2.377304e-16   \n",
       "std         1.000003e+00          1.000003e+00           1.000003e+00   \n",
       "min        -1.691701e+00         -1.131798e+00          -1.688788e+00   \n",
       "25%        -7.159115e-01         -9.110490e-01          -8.749233e-01   \n",
       "50%         1.998287e-02         -4.695502e-01          -2.925072e-03   \n",
       "75%         9.860469e-01          1.075696e+00           8.690732e-01   \n",
       "max         1.381550e+00          1.517195e+00           1.741071e+00   \n",
       "\n",
       "          WINDSPEED      PRESSURE  WIND_DIRECTION  AIR_TEMPERATURE  \\\n",
       "count  1.888240e+05  1.888240e+05    1.888240e+05     1.888240e+05   \n",
       "mean   6.307977e-15  2.287460e-13    5.265351e-16     4.541177e-15   \n",
       "std    1.000003e+00  1.000003e+00    1.000003e+00     1.000003e+00   \n",
       "min   -2.200066e+00 -8.206834e+00   -1.375896e+00    -6.229314e+00   \n",
       "25%   -8.139223e-01 -1.116133e+00   -7.519074e-01    -7.037699e-01   \n",
       "50%   -1.533381e-01  3.410141e-01   -3.440273e-01    -3.894358e-02   \n",
       "75%    7.671481e-01  5.521947e-01    5.340344e-01     5.378263e-01   \n",
       "max    2.131634e+00  2.353442e+00    2.128563e+00     2.558722e+00   \n",
       "\n",
       "       MAXIMUM_X_AXIS  \n",
       "count    1.888240e+05  \n",
       "mean    -1.973096e-13  \n",
       "std      1.000003e+00  \n",
       "min     -6.190386e-01  \n",
       "25%     -2.513958e-01  \n",
       "50%     -2.513958e-01  \n",
       "75%     -1.594852e-01  \n",
       "max      1.105362e+01  "
      ]
     },
     "execution_count": 22,
     "metadata": {},
     "output_type": "execute_result"
    }
   ],
   "source": [
    "# Vemos que elementos usar en funcion de la correlacion anterior\n",
    "\n",
    "datos_pca = fd[['SEISMIC_TIME_SOLS','DATA_ACQUISITION_SOL', 'DATA_ACQUISITION_HOUR','WINDSPEED','PRESSURE','WIND_DIRECTION','AIR_TEMPERATURE','MAXIMUM_X_AXIS']]\n",
    "datos_pca_less = datos_pca[datos_pca.WINDSPEED <= 4 ]\n",
    "datos_pca_limpios = datos_pca_less[~np.isnan(datos_pca_less).any(axis=1)]\n",
    "\n",
    "# Estandarizamos los datos \n",
    "\n",
    "datos_std = StandardScaler().fit_transform(datos_pca_limpios)\n",
    "\n",
    "# Volvemos a generar el DataFrame para mejor manejo\n",
    "\n",
    "datos_pca_std = pd.DataFrame(datos_std, columns=datos_pca.columns)\n",
    "datos_pca_std.describe()"
   ]
  },
  {
   "cell_type": "markdown",
   "metadata": {},
   "source": [
    "Confirmamos que todas esas variables están de alguna forma correlacionadas"
   ]
  },
  {
   "cell_type": "markdown",
   "metadata": {},
   "source": [
    "Ahora veremos que al estandarizar los valores, la matriz de correlación ha cambiado."
   ]
  },
  {
   "cell_type": "code",
   "execution_count": 9,
   "metadata": {},
   "outputs": [
    {
     "data": {
      "text/plain": [
       "<matplotlib.axes._subplots.AxesSubplot at 0x19bf2114c18>"
      ]
     },
     "execution_count": 9,
     "metadata": {},
     "output_type": "execute_result"
    },
    {
     "data": {
      "image/png": "[encoded data removed]",
      "text/plain": [
       "<Figure size 720x576 with 2 Axes>"
      ]
     },
     "metadata": {
      "needs_background": "light"
     },
     "output_type": "display_data"
    }
   ],
   "source": [
    "f, ax = plt.subplots(figsize=(10, 8)) \n",
    "corr = datos_pca_std.corr()\n",
    "sns.heatmap(corr,square=True ,cmap=sns.diverging_palette(220, 10, as_cmap=True), ax=ax , annot = True) "
   ]
  },
  {
   "cell_type": "markdown",
   "metadata": {},
   "source": [
    "Una vez tenemos ya los datos estandarizados, haremos uso de pca para reducir el número de variables."
   ]
  },
  {
   "cell_type": "markdown",
   "metadata": {},
   "source": [
    "Debido a que k-means solo puede representar valores en 2 y 3 dimensiones, tendremos que reducir de 6 componentes a 3."
   ]
  },
  {
   "cell_type": "markdown",
   "metadata": {},
   "source": [
    "## METODO PCA "
   ]
  },
  {
   "cell_type": "markdown",
   "metadata": {},
   "source": [
    "Aplicaremos el modelo para reducir las variables a tres comoponentes.\n",
    "Una vez tenemos el modelo, aplicamos la transformación a nuestro dataset.\n"
   ]
  },
  {
   "cell_type": "code",
   "execution_count": 10,
   "metadata": {},
   "outputs": [
    {
     "data": {
      "text/plain": [
       "array([[ 2.28334457,  0.62730089,  2.69400589],\n",
       "       [ 2.2696186 ,  0.59759049,  2.66752114],\n",
       "       [ 2.26828398,  0.5999494 ,  2.67759165],\n",
       "       ...,\n",
       "       [-0.75184577, -1.62258086,  0.74078333],\n",
       "       [-0.73935533, -1.58892043,  0.77775503],\n",
       "       [-0.73920419, -1.58512911,  0.78958588]])"
      ]
     },
     "execution_count": 10,
     "metadata": {},
     "output_type": "execute_result"
    }
   ],
   "source": [
    "usados = ['SEISMIC_TIME_SOLS','WINDSPEED','PRESSURE','WIND_DIRECTION','AIR_TEMPERATURE','MAXIMUM_X_AXIS']\n",
    "\n",
    "sklearn_pca = sklearnPCA(n_components=3)\n",
    "datos_pca_3 = sklearn_pca.fit_transform(datos_pca_std)\n",
    "datos_pca_3"
   ]
  },
  {
   "cell_type": "markdown",
   "metadata": {},
   "source": [
    "## METODO K-MEANS"
   ]
  },
  {
   "cell_type": "markdown",
   "metadata": {},
   "source": [
    "Lo primero será intuir cual es la k a la hora de tomar k grupos.\n",
    "Para ello usaremos la gráfica de punto de codo:"
   ]
  },
  {
   "cell_type": "code",
   "execution_count": 128,
   "metadata": {},
   "outputs": [
    {
     "data": {
      "image/png": "[encoded data removed]",
      "text/plain": [
       "<Figure size 432x288 with 1 Axes>"
      ]
     },
     "metadata": {
      "needs_background": "light"
     },
     "output_type": "display_data"
    }
   ],
   "source": [
    "Nc = range(1, 20)\n",
    "kmeans = [KMeans(n_clusters=i) for i in Nc]\n",
    "kmeans\n",
    "score = [kmeans[i].fit(datos_pca_3).score(datos_pca_3) for i in range(len(kmeans))]\n",
    "score\n",
    "plt.plot(Nc,score)\n",
    "plt.xlabel('Number of Clusters')\n",
    "plt.ylabel('Score')\n",
    "plt.title('Elbow Curve')\n",
    "plt.show()"
   ]
  },
  {
   "cell_type": "markdown",
   "metadata": {},
   "source": [
    "Lo siguiente será ejecutar K-means y obtener los centroides y sus etiquetas:"
   ]
  },
  {
   "cell_type": "code",
   "execution_count": 11,
   "metadata": {},
   "outputs": [
    {
     "name": "stdout",
     "output_type": "stream",
     "text": [
      "[[-0.26001668 -0.04992132 -1.72555118]\n",
      " [ 2.31357945 -0.26422222 -0.30158029]\n",
      " [ 1.04120567  0.77818252  0.94946364]\n",
      " [-1.48001844  0.86081111 -0.08813519]\n",
      " [-0.93342621 -1.00201689  0.28523736]]\n"
     ]
    }
   ],
   "source": [
    "kmeans = KMeans(n_clusters=5).fit(datos_pca_3)\n",
    "centroids = kmeans.cluster_centers_\n",
    "print(centroids)"
   ]
  },
  {
   "cell_type": "markdown",
   "metadata": {},
   "source": [
    "Lo mostramos todo:"
   ]
  },
  {
   "cell_type": "code",
   "execution_count": 12,
   "metadata": {},
   "outputs": [
    {
     "data": {
      "text/plain": [
       "<mpl_toolkits.mplot3d.art3d.Path3DCollection at 0x19b80d503c8>"
      ]
     },
     "execution_count": 12,
     "metadata": {},
     "output_type": "execute_result"
    },
    {
     "data": {
      "image/png": "[encoded data removed]",
      "text/plain": [
       "<Figure size 432x288 with 1 Axes>"
      ]
     },
     "metadata": {
      "needs_background": "light"
     },
     "output_type": "display_data"
    }
   ],
   "source": [
    "labels = kmeans.predict(datos_pca_3)\n",
    "# Getting the cluster centers\n",
    "C = kmeans.cluster_centers_\n",
    "colores=['red','green','blue','cyan','yellow']\n",
    "asignar=[]\n",
    "for row in labels:\n",
    "    asignar.append(colores[row])\n",
    " \n",
    "fig = plt.figure()\n",
    "ax = Axes3D(fig)\n",
    "ax.scatter(datos_pca_3[:, 0], datos_pca_3[:, 1], datos_pca_3[:, 2], c=asignar,s=60)\n",
    "ax.scatter(C[:, 0], C[:, 1], C[:, 2], marker='*', c=colores, s=1000)"
   ]
  },
  {
   "cell_type": "code",
   "execution_count": 13,
   "metadata": {},
   "outputs": [
    {
     "data": {
      "text/html": [
       "<div>\n",
       "<style scoped>\n",
       "    .dataframe tbody tr th:only-of-type {\n",
       "        vertical-align: middle;\n",
       "    }\n",
       "\n",
       "    .dataframe tbody tr th {\n",
       "        vertical-align: top;\n",
       "    }\n",
       "\n",
       "    .dataframe thead th {\n",
       "        text-align: right;\n",
       "    }\n",
       "</style>\n",
       "<table border=\"1\" class=\"dataframe\">\n",
       "  <thead>\n",
       "    <tr style=\"text-align: right;\">\n",
       "      <th></th>\n",
       "      <th>cantidad</th>\n",
       "    </tr>\n",
       "    <tr>\n",
       "      <th>label</th>\n",
       "      <th></th>\n",
       "    </tr>\n",
       "  </thead>\n",
       "  <tbody>\n",
       "    <tr>\n",
       "      <th>0</th>\n",
       "      <td>19888</td>\n",
       "    </tr>\n",
       "    <tr>\n",
       "      <th>1</th>\n",
       "      <td>35948</td>\n",
       "    </tr>\n",
       "    <tr>\n",
       "      <th>2</th>\n",
       "      <td>35364</td>\n",
       "    </tr>\n",
       "    <tr>\n",
       "      <th>3</th>\n",
       "      <td>43337</td>\n",
       "    </tr>\n",
       "    <tr>\n",
       "      <th>4</th>\n",
       "      <td>54287</td>\n",
       "    </tr>\n",
       "  </tbody>\n",
       "</table>\n",
       "</div>"
      ],
      "text/plain": [
       "       cantidad\n",
       "label          \n",
       "0         19888\n",
       "1         35948\n",
       "2         35364\n",
       "3         43337\n",
       "4         54287"
      ]
     },
     "execution_count": 13,
     "metadata": {},
     "output_type": "execute_result"
    }
   ],
   "source": [
    "copy =  pd.DataFrame()\n",
    "copy['label'] = labels;\n",
    "cantidadGrupo =  pd.DataFrame()\n",
    "cantidadGrupo['cantidad']=copy.groupby('label').size()\n",
    "cantidadGrupo"
   ]
  },
  {
   "cell_type": "markdown",
   "metadata": {},
   "source": [
    "## RELACIONAR PCA CON EL DATASET ORIGINAL"
   ]
  },
  {
   "cell_type": "markdown",
   "metadata": {},
   "source": [
    "Lo primero será ver que tamaño tiene ambos datasets. Por ello: "
   ]
  },
  {
   "cell_type": "code",
   "execution_count": 14,
   "metadata": {},
   "outputs": [],
   "source": [
    "# Dataset original : fd\n",
    "# Dataset con datos fisicos y temporales : datos_gen\n",
    "# Dataset con datos pca limpios : datos_pca\n",
    "# Dataset con datos pca estandarizados : datos_pca_std\n",
    "# Dataset con datos pca reducidos a 3 columnas : datos_pca_3"
   ]
  },
  {
   "cell_type": "code",
   "execution_count": 15,
   "metadata": {},
   "outputs": [
    {
     "data": {
      "text/plain": [
       "(188824, 8)"
      ]
     },
     "execution_count": 15,
     "metadata": {},
     "output_type": "execute_result"
    }
   ],
   "source": [
    "datos_pca_std.shape"
   ]
  },
  {
   "cell_type": "code",
   "execution_count": 16,
   "metadata": {},
   "outputs": [
    {
     "data": {
      "text/plain": [
       "(188824, 3)"
      ]
     },
     "execution_count": 16,
     "metadata": {},
     "output_type": "execute_result"
    }
   ],
   "source": [
    "datos_pca_3.shape"
   ]
  },
  {
   "cell_type": "markdown",
   "metadata": {},
   "source": [
    "Podemos ver entonces que a cada tupla de valores en datos_pca_std se le asigna un valor datos_pca_3.\n",
    "Lo siguiente será juntar el dataset datos_pca_3 con su grupo establecido, por ello:"
   ]
  },
  {
   "cell_type": "code",
   "execution_count": 17,
   "metadata": {},
   "outputs": [
    {
     "data": {
      "text/plain": [
       "array([2, 2, 2, ..., 4, 4, 4])"
      ]
     },
     "execution_count": 17,
     "metadata": {},
     "output_type": "execute_result"
    }
   ],
   "source": [
    "# Las estiquetas se guardan en : labels\n",
    "labels"
   ]
  },
  {
   "cell_type": "code",
   "execution_count": 18,
   "metadata": {},
   "outputs": [
    {
     "data": {
      "text/plain": [
       "(188824,)"
      ]
     },
     "execution_count": 18,
     "metadata": {},
     "output_type": "execute_result"
    }
   ],
   "source": [
    "labels.shape"
   ]
  },
  {
   "cell_type": "code",
   "execution_count": 25,
   "metadata": {},
   "outputs": [
    {
     "data": {
      "text/html": [
       "<div>\n",
       "<style scoped>\n",
       "    .dataframe tbody tr th:only-of-type {\n",
       "        vertical-align: middle;\n",
       "    }\n",
       "\n",
       "    .dataframe tbody tr th {\n",
       "        vertical-align: top;\n",
       "    }\n",
       "\n",
       "    .dataframe thead th {\n",
       "        text-align: right;\n",
       "    }\n",
       "</style>\n",
       "<table border=\"1\" class=\"dataframe\">\n",
       "  <thead>\n",
       "    <tr style=\"text-align: right;\">\n",
       "      <th></th>\n",
       "      <th>SEISMIC_TIME_SOLS</th>\n",
       "      <th>DATA_ACQUISITION_SOL</th>\n",
       "      <th>DATA_ACQUISITION_HOUR</th>\n",
       "      <th>WINDSPEED</th>\n",
       "      <th>PRESSURE</th>\n",
       "      <th>WIND_DIRECTION</th>\n",
       "      <th>AIR_TEMPERATURE</th>\n",
       "      <th>MAXIMUM_X_AXIS</th>\n",
       "      <th>LABEL</th>\n",
       "    </tr>\n",
       "  </thead>\n",
       "  <tbody>\n",
       "    <tr>\n",
       "      <th>count</th>\n",
       "      <td>188824.000000</td>\n",
       "      <td>188824.000000</td>\n",
       "      <td>188824.000000</td>\n",
       "      <td>188824.000000</td>\n",
       "      <td>188824.000000</td>\n",
       "      <td>188824.000000</td>\n",
       "      <td>188824.000000</td>\n",
       "      <td>188824.000000</td>\n",
       "      <td>188824.000000</td>\n",
       "    </tr>\n",
       "    <tr>\n",
       "      <th>mean</th>\n",
       "      <td>622.835921</td>\n",
       "      <td>10.254147</td>\n",
       "      <td>29.050317</td>\n",
       "      <td>2.031596</td>\n",
       "      <td>8.565484</td>\n",
       "      <td>141.340636</td>\n",
       "      <td>191.284514</td>\n",
       "      <td>6.735219</td>\n",
       "      <td>2.403482</td>\n",
       "    </tr>\n",
       "    <tr>\n",
       "      <th>std</th>\n",
       "      <td>308.468987</td>\n",
       "      <td>9.060070</td>\n",
       "      <td>17.201915</td>\n",
       "      <td>0.923427</td>\n",
       "      <td>0.805000</td>\n",
       "      <td>102.726536</td>\n",
       "      <td>22.712757</td>\n",
       "      <td>10.880157</td>\n",
       "      <td>1.352185</td>\n",
       "    </tr>\n",
       "    <tr>\n",
       "      <th>min</th>\n",
       "      <td>101.000000</td>\n",
       "      <td>0.000000</td>\n",
       "      <td>0.000000</td>\n",
       "      <td>0.000000</td>\n",
       "      <td>1.959000</td>\n",
       "      <td>0.000000</td>\n",
       "      <td>49.800000</td>\n",
       "      <td>0.000000</td>\n",
       "      <td>0.000000</td>\n",
       "    </tr>\n",
       "    <tr>\n",
       "      <th>25%</th>\n",
       "      <td>402.000000</td>\n",
       "      <td>2.000000</td>\n",
       "      <td>14.000000</td>\n",
       "      <td>1.280000</td>\n",
       "      <td>7.667000</td>\n",
       "      <td>64.100000</td>\n",
       "      <td>175.300000</td>\n",
       "      <td>4.000000</td>\n",
       "      <td>1.000000</td>\n",
       "    </tr>\n",
       "    <tr>\n",
       "      <th>50%</th>\n",
       "      <td>629.000000</td>\n",
       "      <td>6.000000</td>\n",
       "      <td>29.000000</td>\n",
       "      <td>1.890000</td>\n",
       "      <td>8.840000</td>\n",
       "      <td>106.000000</td>\n",
       "      <td>190.400000</td>\n",
       "      <td>4.000000</td>\n",
       "      <td>3.000000</td>\n",
       "    </tr>\n",
       "    <tr>\n",
       "      <th>75%</th>\n",
       "      <td>927.000000</td>\n",
       "      <td>20.000000</td>\n",
       "      <td>44.000000</td>\n",
       "      <td>2.740000</td>\n",
       "      <td>9.010000</td>\n",
       "      <td>196.200000</td>\n",
       "      <td>203.500000</td>\n",
       "      <td>5.000000</td>\n",
       "      <td>4.000000</td>\n",
       "    </tr>\n",
       "    <tr>\n",
       "      <th>max</th>\n",
       "      <td>1049.000000</td>\n",
       "      <td>24.000000</td>\n",
       "      <td>59.000000</td>\n",
       "      <td>4.000000</td>\n",
       "      <td>10.460000</td>\n",
       "      <td>360.000000</td>\n",
       "      <td>249.400000</td>\n",
       "      <td>127.000000</td>\n",
       "      <td>4.000000</td>\n",
       "    </tr>\n",
       "  </tbody>\n",
       "</table>\n",
       "</div>"
      ],
      "text/plain": [
       "       SEISMIC_TIME_SOLS  DATA_ACQUISITION_SOL  DATA_ACQUISITION_HOUR  \\\n",
       "count      188824.000000         188824.000000          188824.000000   \n",
       "mean          622.835921             10.254147              29.050317   \n",
       "std           308.468987              9.060070              17.201915   \n",
       "min           101.000000              0.000000               0.000000   \n",
       "25%           402.000000              2.000000              14.000000   \n",
       "50%           629.000000              6.000000              29.000000   \n",
       "75%           927.000000             20.000000              44.000000   \n",
       "max          1049.000000             24.000000              59.000000   \n",
       "\n",
       "           WINDSPEED       PRESSURE  WIND_DIRECTION  AIR_TEMPERATURE  \\\n",
       "count  188824.000000  188824.000000   188824.000000    188824.000000   \n",
       "mean        2.031596       8.565484      141.340636       191.284514   \n",
       "std         0.923427       0.805000      102.726536        22.712757   \n",
       "min         0.000000       1.959000        0.000000        49.800000   \n",
       "25%         1.280000       7.667000       64.100000       175.300000   \n",
       "50%         1.890000       8.840000      106.000000       190.400000   \n",
       "75%         2.740000       9.010000      196.200000       203.500000   \n",
       "max         4.000000      10.460000      360.000000       249.400000   \n",
       "\n",
       "       MAXIMUM_X_AXIS          LABEL  \n",
       "count   188824.000000  188824.000000  \n",
       "mean         6.735219       2.403482  \n",
       "std         10.880157       1.352185  \n",
       "min          0.000000       0.000000  \n",
       "25%          4.000000       1.000000  \n",
       "50%          4.000000       3.000000  \n",
       "75%          5.000000       4.000000  \n",
       "max        127.000000       4.000000  "
      ]
     },
     "execution_count": 25,
     "metadata": {},
     "output_type": "execute_result"
    }
   ],
   "source": [
    "datos_pca_less.describe()"
   ]
  },
  {
   "cell_type": "code",
   "execution_count": null,
   "metadata": {},
   "outputs": [],
   "source": []
  }
 ],
 "metadata": {
  "kernelspec": {
   "display_name": "Python 3",
   "language": "python",
   "name": "python3"
  },
  "language_info": {
   "codemirror_mode": {
    "name": "ipython",
    "version": 3
   },
   "file_extension": ".py",
   "mimetype": "text/x-python",
   "name": "python",
   "nbconvert_exporter": "python",
   "pygments_lexer": "ipython3",
   "version": "3.7.1"
  }
 },
 "nbformat": 4,
 "nbformat_minor": 2
}
